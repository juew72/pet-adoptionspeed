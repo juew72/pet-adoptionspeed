{
 "cells": [
  {
   "cell_type": "markdown",
   "metadata": {},
   "source": [
    "# Data Visualization"
   ]
  },
  {
   "cell_type": "code",
   "execution_count": 1,
   "metadata": {},
   "outputs": [
    {
     "data": {
      "text/html": [
       "<script>requirejs.config({paths: { 'plotly': ['https://cdn.plot.ly/plotly-latest.min']},});if(!window.Plotly) {{require(['plotly'],function(plotly) {window.Plotly=plotly;});}}</script>"
      ],
      "text/vnd.plotly.v1+html": [
       "<script>requirejs.config({paths: { 'plotly': ['https://cdn.plot.ly/plotly-latest.min']},});if(!window.Plotly) {{require(['plotly'],function(plotly) {window.Plotly=plotly;});}}</script>"
      ]
     },
     "metadata": {},
     "output_type": "display_data"
    }
   ],
   "source": [
    "# import packages\n",
    "import pandas as pd\n",
    "import numpy as np\n",
    "import matplotlib.pyplot as plt\n",
    "# plotlyset up\n",
    "import plotly.offline as py\n",
    "import plotly.tools as tls\n",
    "py.init_notebook_mode(connected=True)\n",
    "import plotly.graph_objs as go\n",
    "import seaborn as sns\n",
    "# packages for word cloud\n",
    "from wordcloud import WordCloud,ImageColorGenerator\n",
    "from scipy.misc import imread\n",
    "import matplotlib.pyplot as plt\n",
    "%matplotlib inline\n",
    "plt.style.use('ggplot')"
   ]
  },
  {
   "cell_type": "code",
   "execution_count": 2,
   "metadata": {},
   "outputs": [],
   "source": [
    "# import datasets\n",
    "df = pd.read_csv('Data/cleaned-data.csv')\n",
    "train = pd.read_csv('Data/Row-data/train.csv')"
   ]
  },
  {
   "cell_type": "code",
   "execution_count": 3,
   "metadata": {},
   "outputs": [],
   "source": [
    "# drop unuseful columns for visualization\n",
    "df = df.drop(['DataType','Description','PetID'], axis = 1)"
   ]
  },
  {
   "cell_type": "code",
   "execution_count": null,
   "metadata": {},
   "outputs": [
    {
     "name": "stderr",
     "output_type": "stream",
     "text": [
      "/Users/elainny/anaconda/lib/python3.6/site-packages/matplotlib/font_manager.py:1238: UserWarning:\n",
      "\n",
      "findfont: Font family ['sans-serif'] not found. Falling back to DejaVu Sans.\n",
      "\n"
     ]
    }
   ],
   "source": [
    "# Correlation among variables\n",
    "# get some idea of top 3 variables I am going to analyze more than other variables\n",
    "corr = train.corr()\n",
    "mask = np.array(corr)\n",
    "mask[np.tril_indices_from(corr)] = False\n",
    "sns.heatmap(data=corr,mask=mask,annot=True,linewidths=.5,square=True)\n",
    "fig = plt.gcf()\n",
    "fig.set_size_inches(20, 20)\n",
    "plt.title('correlation among variables.png')\n",
    "plt.savefig(\"correlation-among-variables.png\", bbox_inches=\"tight\", dpi=100)\n",
    "plt.show() "
   ]
  },
  {
   "cell_type": "code",
   "execution_count": null,
   "metadata": {},
   "outputs": [],
   "source": [
    "#Adoption Speed vs Age plot\n",
    "import plotly\n",
    "tls.set_credentials_file(username='wawafish',api_key='haNTorCiWdKfafDOiZCh')\n",
    "\n",
    "data_age = []\n",
    "for i in range(5):\n",
    "    datax = df.loc[df['AdoptionSpeed'] == 2]\n",
    "    data = df.loc[df['AdoptionSpeed'] == i]\n",
    "    data_age.append(go.Scatter(\n",
    "        x = datax['Age'].value_counts().sort_index().index,\n",
    "        y = data['Age'].value_counts().sort_index().values,\n",
    "        mode = str(i),\n",
    "        name = str(i)))\n",
    "    \n",
    "\n",
    "layout = dict(title = 'Adoption Speed vs Age',\n",
    "              yaxis = dict(title = 'Count', zeroline = False),\n",
    "              xaxis = dict(title = 'Age in months', zeroline = False))\n",
    "\n",
    "fig = dict(data=data_age, layout = layout)\n",
    "py.iplot(fig, filename = 'basic-line')"
   ]
  },
  {
   "cell_type": "code",
   "execution_count": null,
   "metadata": {},
   "outputs": [],
   "source": [
    "# Total Adoption Speed\n",
    "import plotly\n",
    "tls.set_credentials_file(username='wawafish',api_key='haNTorCiWdKfafDOiZCh')\n",
    "\n",
    "labels = ['Not being adopted','adopted within 2-3 months','adopted within 1st month',\n",
    "          'adopted within 1st week','same day adoption']\n",
    "values = list(df['AdoptionSpeed'].value_counts())\n",
    "colors = ['#ffe6e6', '#fcf8c1', '#defcce', '#e9dbf9','#ceeef9']\n",
    "\n",
    "trace = go.Pie(labels=labels, values=values,\n",
    "               hoverinfo='label+percent', textinfo='value', \n",
    "               textfont=dict(size=20),\n",
    "               marker=dict(colors=colors))\n",
    "\n",
    "py.iplot([trace], filename='styled_pie_chart')"
   ]
  },
  {
   "cell_type": "code",
   "execution_count": null,
   "metadata": {},
   "outputs": [],
   "source": [
    "# Top 7 popular combinations of gender and type\n",
    "df['Color'] = (df['Color1'] + '/' + df['Color2'] + '/' + df['Color3']).replace(['//'], [' '])\n",
    "for i in df['Type'].unique():\n",
    "    for gender in df['Gender'].unique():\n",
    "        data_color = df.loc[(df['Type'] == i) & (df['Gender'] == gender)]\n",
    "        top7_colors = list(data_color['Color'].value_counts().index)[:7]\n",
    "        print(f\"Top 5 popular colors of {gender} {i}s: {' '.join(top7_colors)}\")"
   ]
  },
  {
   "cell_type": "code",
   "execution_count": null,
   "metadata": {},
   "outputs": [],
   "source": [
    "# plot for quantity vs fee\n",
    "import seaborn as sns \n",
    "plt.figure(figsize=(20, 8))\n",
    "plt.subplot(1, 2, 1)\n",
    "sns.regplot(x=\"Fee\", y=\"Quantity\",data=df.loc[df['Type'] == 'Dog'], fit_reg=False)\n",
    "plt.title('Quantity of Dog and Fee');\n",
    "\n",
    "plt.subplot(1, 2, 2)\n",
    "sns.regplot(x=\"Fee\", y=\"Quantity\",data=df.loc[df['Type'] == 'Cat'], fit_reg=False)\n",
    "plt.title('Quantity of Cat and Fee');\n",
    "\n",
    "plt.savefig('quantity-vs-fee.png')\n",
    "plt.show()"
   ]
  },
  {
   "cell_type": "markdown",
   "metadata": {},
   "source": [
    "## word cloud"
   ]
  },
  {
   "cell_type": "code",
   "execution_count": null,
   "metadata": {},
   "outputs": [],
   "source": [
    "# word cloud: cat name\n",
    "plt.figure(figsize=(20, 8))\n",
    "bg_pic = imread('dog-paw.png')\n",
    "image_colors = ImageColorGenerator(bg_pic)\n",
    "\n",
    "\n",
    "cat_name = ' '.join(df.loc[df['Type'] == 'Cat', 'Name'].fillna('').values)\n",
    "wc_cat = WordCloud(mask=bg_pic,background_color='white',scale=20,max_words=300).generate(cat_name)\n",
    "\n",
    "plt.imshow(wc_cat.recolor(color_func=image_colors), interpolation=\"bilinear\")\n",
    "plt.axis(\"off\")\n",
    "plt.savefig('cat.png')\n",
    "#plt.show()"
   ]
  },
  {
   "cell_type": "code",
   "execution_count": null,
   "metadata": {},
   "outputs": [],
   "source": [
    "# word cloud: dog name\n",
    "plt.figure(figsize=(20, 8))\n",
    "dog_name = ' '.join(df.loc[df['Type'] == 'Dog', 'Name'].fillna('').values)\n",
    "wc_dog = WordCloud(mask=bg_pic,background_color='white',scale=20,max_words=300).generate(dog_name)\n",
    "plt.imshow(wc_dog.recolor(color_func=image_colors), interpolation=\"bilinear\")\n",
    "plt.axis(\"off\")\n",
    "plt.savefig('dog.png')\n",
    "plt.show()"
   ]
  },
  {
   "cell_type": "code",
   "execution_count": null,
   "metadata": {},
   "outputs": [],
   "source": [
    "# top 3 popular pet names sorted by adoption speed\n",
    "print('Top 3 Most popular pet names and AdoptionSpeed: ')\n",
    "for name in df['Name'].value_counts().index[:3]:\n",
    "    print('top 3 names: %s' % name)\n",
    "    print(df.loc[df['Name'] == name, 'AdoptionSpeed'].value_counts().sort_index())"
   ]
  },
  {
   "cell_type": "code",
   "execution_count": null,
   "metadata": {},
   "outputs": [],
   "source": [
    "# pets without names vs adoption speed\n",
    "df['No_name'] = 0\n",
    "df.loc[df['Name'] == 'No name', 'No_name'] = 1\n",
    "\n",
    "pd.crosstab(df['No_name'], df['AdoptionSpeed'], normalize='index')"
   ]
  },
  {
   "cell_type": "code",
   "execution_count": null,
   "metadata": {},
   "outputs": [],
   "source": [
    "# the following pet names will have less possibility to be adopted.\n",
    "less_adoption_name = []\n",
    "for name in df['Name'].unique():\n",
    "    if len(str(name)) <=3:\n",
    "        less_adoption_name.append(name)\n",
    "\n",
    "print(less_adoption_name)"
   ]
  },
  {
   "cell_type": "code",
   "execution_count": null,
   "metadata": {},
   "outputs": [],
   "source": []
  }
 ],
 "metadata": {
  "kernelspec": {
   "display_name": "Python 3",
   "language": "python",
   "name": "python3"
  },
  "language_info": {
   "codemirror_mode": {
    "name": "ipython",
    "version": 3
   },
   "file_extension": ".py",
   "mimetype": "text/x-python",
   "name": "python",
   "nbconvert_exporter": "python",
   "pygments_lexer": "ipython3",
   "version": "3.6.5"
  }
 },
 "nbformat": 4,
 "nbformat_minor": 2
}
