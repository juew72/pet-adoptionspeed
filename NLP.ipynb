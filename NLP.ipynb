{
 "cells": [
  {
   "cell_type": "markdown",
   "metadata": {},
   "source": [
    "# Natural Language Processing"
   ]
  },
  {
   "cell_type": "code",
   "execution_count": 1,
   "metadata": {},
   "outputs": [
    {
     "name": "stdout",
     "output_type": "stream",
     "text": [
      "[nltk_data] Downloading package punkt to /Users/elainny/nltk_data...\n",
      "[nltk_data]   Package punkt is already up-to-date!\n"
     ]
    },
    {
     "name": "stderr",
     "output_type": "stream",
     "text": [
      "/Users/elainny/anaconda/lib/python3.6/site-packages/sklearn/ensemble/weight_boosting.py:29: DeprecationWarning: numpy.core.umath_tests is an internal NumPy module and should not be imported. It will be removed in a future NumPy release.\n",
      "  from numpy.core.umath_tests import inner1d\n"
     ]
    }
   ],
   "source": [
    "# import all packages\n",
    "import pandas as pd\n",
    "import numpy as np\n",
    "# Word cloud plots for Names\n",
    "from wordcloud import WordCloud,ImageColorGenerator\n",
    "from scipy.misc import imread\n",
    "import matplotlib.pyplot as plt\n",
    "%matplotlib inline\n",
    "plt.style.use('ggplot')\n",
    "# LDA & LSI packages\n",
    "import nltk\n",
    "nltk.download('punkt')\n",
    "import re\n",
    "from gensim import models, corpora\n",
    "from nltk import word_tokenize\n",
    "from nltk.corpus import stopwords\n",
    "from nltk.stem import WordNetLemmatizer\n",
    "from gensim import similarities\n",
    "# Split dataset package\n",
    "from sklearn.model_selection import train_test_split\n",
    "# Random forest packages\n",
    "from sklearn.feature_extraction.text import TfidfVectorizer as tfidfV\n",
    "from sklearn.naive_bayes import MultinomialNB\n",
    "from sklearn.ensemble import RandomForestClassifier, GradientBoostingClassifier\n",
    "from sklearn.pipeline import Pipeline\n",
    "from sklearn.metrics import classification_report as report\n",
    "from sklearn.model_selection import GridSearchCV\n",
    "from sklearn.feature_extraction.text import CountVectorizer\n",
    "import string\n",
    "#Evaluation on best model\n",
    "from sklearn.metrics import precision_recall_fscore_support as f_score\n",
    "from sklearn.metrics import accuracy_score as accuracy\n",
    "import matplotlib.pyplot as plt\n",
    "import seaborn as sns\n",
    "from sklearn.metrics import confusion_matrix"
   ]
  },
  {
   "cell_type": "code",
   "execution_count": 7,
   "metadata": {},
   "outputs": [
    {
     "data": {
      "text/html": [
       "<div>\n",
       "<style scoped>\n",
       "    .dataframe tbody tr th:only-of-type {\n",
       "        vertical-align: middle;\n",
       "    }\n",
       "\n",
       "    .dataframe tbody tr th {\n",
       "        vertical-align: top;\n",
       "    }\n",
       "\n",
       "    .dataframe thead th {\n",
       "        text-align: right;\n",
       "    }\n",
       "</style>\n",
       "<table border=\"1\" class=\"dataframe\">\n",
       "  <thead>\n",
       "    <tr style=\"text-align: right;\">\n",
       "      <th></th>\n",
       "      <th>Unnamed: 0</th>\n",
       "      <th>Type</th>\n",
       "      <th>Name</th>\n",
       "      <th>Age</th>\n",
       "      <th>Breed1</th>\n",
       "      <th>Breed2</th>\n",
       "      <th>Gender</th>\n",
       "      <th>Color1</th>\n",
       "      <th>Color2</th>\n",
       "      <th>Color3</th>\n",
       "      <th>...</th>\n",
       "      <th>Vaccinated</th>\n",
       "      <th>Dewormed</th>\n",
       "      <th>Sterilized</th>\n",
       "      <th>Health</th>\n",
       "      <th>Quantity</th>\n",
       "      <th>Fee</th>\n",
       "      <th>Description</th>\n",
       "      <th>PetID</th>\n",
       "      <th>AdoptionSpeed</th>\n",
       "      <th>DataType</th>\n",
       "    </tr>\n",
       "  </thead>\n",
       "  <tbody>\n",
       "    <tr>\n",
       "      <th>0</th>\n",
       "      <td>0</td>\n",
       "      <td>Cat</td>\n",
       "      <td>Nibble</td>\n",
       "      <td>3</td>\n",
       "      <td>Tabby</td>\n",
       "      <td>0</td>\n",
       "      <td>Male</td>\n",
       "      <td>Black</td>\n",
       "      <td>White</td>\n",
       "      <td>none</td>\n",
       "      <td>...</td>\n",
       "      <td>No</td>\n",
       "      <td>No</td>\n",
       "      <td>No</td>\n",
       "      <td>Healthy</td>\n",
       "      <td>1</td>\n",
       "      <td>100</td>\n",
       "      <td>Nibble is a 3+ month old ball of cuteness. He ...</td>\n",
       "      <td>86e1089a3</td>\n",
       "      <td>2</td>\n",
       "      <td>train</td>\n",
       "    </tr>\n",
       "    <tr>\n",
       "      <th>1</th>\n",
       "      <td>1</td>\n",
       "      <td>Cat</td>\n",
       "      <td>No name</td>\n",
       "      <td>1</td>\n",
       "      <td>Domestic medium hair</td>\n",
       "      <td>0</td>\n",
       "      <td>Male</td>\n",
       "      <td>Black</td>\n",
       "      <td>Brown</td>\n",
       "      <td>none</td>\n",
       "      <td>...</td>\n",
       "      <td>Not Sure</td>\n",
       "      <td>Not Sure</td>\n",
       "      <td>Not Sure</td>\n",
       "      <td>Healthy</td>\n",
       "      <td>1</td>\n",
       "      <td>0</td>\n",
       "      <td>I just found it alone yesterday near my apartm...</td>\n",
       "      <td>6296e909a</td>\n",
       "      <td>0</td>\n",
       "      <td>train</td>\n",
       "    </tr>\n",
       "    <tr>\n",
       "      <th>2</th>\n",
       "      <td>2</td>\n",
       "      <td>Dog</td>\n",
       "      <td>Brisco</td>\n",
       "      <td>1</td>\n",
       "      <td>Mixed breeds</td>\n",
       "      <td>0</td>\n",
       "      <td>Male</td>\n",
       "      <td>Brown</td>\n",
       "      <td>White</td>\n",
       "      <td>none</td>\n",
       "      <td>...</td>\n",
       "      <td>Yes</td>\n",
       "      <td>Yes</td>\n",
       "      <td>No</td>\n",
       "      <td>Healthy</td>\n",
       "      <td>1</td>\n",
       "      <td>0</td>\n",
       "      <td>Their pregnant mother was dumped by her irresp...</td>\n",
       "      <td>3422e4906</td>\n",
       "      <td>3</td>\n",
       "      <td>train</td>\n",
       "    </tr>\n",
       "  </tbody>\n",
       "</table>\n",
       "<p>3 rows × 22 columns</p>\n",
       "</div>"
      ],
      "text/plain": [
       "   Unnamed: 0 Type     Name  Age                Breed1 Breed2 Gender Color1  \\\n",
       "0           0  Cat   Nibble    3                 Tabby      0   Male  Black   \n",
       "1           1  Cat  No name    1  Domestic medium hair      0   Male  Black   \n",
       "2           2  Dog   Brisco    1          Mixed breeds      0   Male  Brown   \n",
       "\n",
       "  Color2 Color3   ...    Vaccinated  Dewormed Sterilized   Health Quantity  \\\n",
       "0  White   none   ...            No        No         No  Healthy        1   \n",
       "1  Brown   none   ...      Not Sure  Not Sure   Not Sure  Healthy        1   \n",
       "2  White   none   ...           Yes       Yes         No  Healthy        1   \n",
       "\n",
       "   Fee                                        Description      PetID  \\\n",
       "0  100  Nibble is a 3+ month old ball of cuteness. He ...  86e1089a3   \n",
       "1    0  I just found it alone yesterday near my apartm...  6296e909a   \n",
       "2    0  Their pregnant mother was dumped by her irresp...  3422e4906   \n",
       "\n",
       "  AdoptionSpeed DataType  \n",
       "0             2    train  \n",
       "1             0    train  \n",
       "2             3    train  \n",
       "\n",
       "[3 rows x 22 columns]"
      ]
     },
     "execution_count": 7,
     "metadata": {},
     "output_type": "execute_result"
    }
   ],
   "source": [
    "# import datasets\n",
    "\n",
    "df = pd.read_csv('Data/cleaned-data.csv')\n",
    "train = pd.read_csv('Data/cleaned-train.csv')\n",
    "test = pd.read_csv('Data/cleaned-test.csv')\n",
    "train.head(3)"
   ]
  },
  {
   "cell_type": "code",
   "execution_count": 8,
   "metadata": {
    "scrolled": false
   },
   "outputs": [],
   "source": [
    "# select only useful columns for NLP\n",
    "# fill out all NaN values under Description column with 'For Adoption'\n",
    "train = train[['Description','AdoptionSpeed']]\n",
    "train['Description'] = train['Description'].fillna('For Adoption')"
   ]
  },
  {
   "cell_type": "code",
   "execution_count": 19,
   "metadata": {},
   "outputs": [
    {
     "data": {
      "text/plain": [
       "Description      False\n",
       "AdoptionSpeed    False\n",
       "dtype: bool"
      ]
     },
     "execution_count": 19,
     "metadata": {},
     "output_type": "execute_result"
    }
   ],
   "source": [
    "# check if there is any NaN columns left\n",
    "train.isnull().any()"
   ]
  },
  {
   "cell_type": "markdown",
   "metadata": {},
   "source": [
    "## Word Clouds"
   ]
  },
  {
   "cell_type": "code",
   "execution_count": null,
   "metadata": {},
   "outputs": [],
   "source": [
    "# word cloud: cat name\n",
    "plt.figure(figsize=(20, 8))\n",
    "bg_pic = imread('img/dog-paw.png')\n",
    "image_colors = ImageColorGenerator(bg_pic)\n",
    "\n",
    "\n",
    "cat_name = ' '.join(df.loc[df['Type'] == 'Cat', 'Name'].fillna('').values)\n",
    "wc_cat = WordCloud(mask=bg_pic,background_color='white',scale=20,max_words=300).generate(cat_name)\n",
    "\n",
    "plt.imshow(wc_cat.recolor(color_func=image_colors), interpolation=\"bilinear\")\n",
    "plt.axis(\"off\")\n",
    "plt.savefig('cat.png')\n",
    "plt.show()"
   ]
  },
  {
   "cell_type": "code",
   "execution_count": null,
   "metadata": {},
   "outputs": [],
   "source": [
    "# word cloud: dog name\n",
    "plt.figure(figsize=(20, 8))\n",
    "dog_name = ' '.join(df.loc[df['Type'] == 'Dog', 'Name'].fillna('').values)\n",
    "wc_dog = WordCloud(mask=bg_pic,background_color='white',scale=20,max_words=300).generate(dog_name)\n",
    "plt.imshow(wc_dog.recolor(color_func=image_colors), interpolation=\"bilinear\")\n",
    "plt.axis(\"off\")\n",
    "plt.savefig('dog.png')\n",
    "plt.show()"
   ]
  },
  {
   "cell_type": "markdown",
   "metadata": {},
   "source": [
    "## LDA & LSI model"
   ]
  },
  {
   "cell_type": "code",
   "execution_count": 11,
   "metadata": {},
   "outputs": [],
   "source": [
    "# Create train_data by selecting Description columns in train data\n",
    "train_data = train['Description'].values.tolist()"
   ]
  },
  {
   "cell_type": "code",
   "execution_count": 12,
   "metadata": {},
   "outputs": [],
   "source": [
    "# Define stopwords, lemmatizer, and data cleaning process\n",
    "stop_words = set(stopwords.words(\"english\"))\n",
    "# Lemmatizer\n",
    "wordnet_lemmatizer = WordNetLemmatizer()\n",
    "# Stemming\n",
    "stemming = nltk.PorterStemmer()\n",
    "\n",
    "\n",
    "def cleandata(review) :\n",
    "    clean_des = re.sub('[^a-zA-Z]', ' ', str(review)) # Remove punctuation/words not starting with alphabet\n",
    "    clean_des = clean_des.lower() # make words lower cases\n",
    "    words = word_tokenize(clean_des) # tokenize\n",
    "    words = [w for w in words if not w in stop_words] # stop words removal\n",
    "    words = [stemming.stem(word) for word in words] # Stemming\n",
    "    words = [wordnet_lemmatizer.lemmatize(w) for w in words] #Lemmatize words\n",
    "    return words"
   ]
  },
  {
   "cell_type": "code",
   "execution_count": 13,
   "metadata": {},
   "outputs": [],
   "source": [
    "# Define the number of topics\n",
    "t = 10\n",
    "\n",
    "cleaned = []\n",
    "for description in train_data:\n",
    "    cleaned.append(cleandata(description))\n",
    "# Create a Dictionary associate word to id\n",
    "D = corpora.Dictionary(cleaned)\n",
    "\n",
    "# Transform texts to numeric\n",
    "corpra = [D.doc2bow(i) for i in cleaned]"
   ]
  },
  {
   "cell_type": "code",
   "execution_count": 14,
   "metadata": {},
   "outputs": [
    {
     "name": "stdout",
     "output_type": "stream",
     "text": [
      "LDA model\n",
      "Topic Number 1: 0.017*\"love\" + 0.016*\"like\" + 0.015*\"play\" + 0.015*\"cat\" + 0.010*\"adopt\" + 0.010*\"train\" + 0.010*\"would\" + 0.008*\"home\" + 0.008*\"kitten\"\n",
      "Topic Number 2: 0.037*\"home\" + 0.030*\"love\" + 0.021*\"adopt\" + 0.020*\"cat\" + 0.019*\"kitten\" + 0.017*\"look\" + 0.015*\"plea\" + 0.013*\"care\" + 0.012*\"take\"\n",
      "Topic Number 3: 0.026*\"love\" + 0.025*\"cat\" + 0.020*\"home\" + 0.013*\"kitten\" + 0.013*\"adopt\" + 0.012*\"well\" + 0.012*\"care\" + 0.011*\"old\" + 0.011*\"give\"\n",
      "Topic Number 4: 0.026*\"dan\" + 0.025*\"saya\" + 0.024*\"kuce\" + 0.020*\"yang\" + 0.019*\"dia\" + 0.014*\"di\" + 0.010*\"untuk\" + 0.010*\"boleh\" + 0.010*\"ni\"\n",
      "Topic Number 5: 0.071*\"dog\" + 0.019*\"good\" + 0.019*\"adopt\" + 0.017*\"owner\" + 0.017*\"home\" + 0.014*\"plea\" + 0.010*\"hous\" + 0.009*\"love\" + 0.008*\"need\"\n",
      "Topic Number 6: 0.066*\"adopt\" + 0.023*\"plea\" + 0.022*\"vaccin\" + 0.017*\"neuter\" + 0.015*\"interest\" + 0.014*\"spay\" + 0.013*\"month\" + 0.013*\"contact\" + 0.013*\"kitten\"\n",
      "Topic Number 7: 0.015*\"home\" + 0.011*\"love\" + 0.010*\"found\" + 0.010*\"rescu\" + 0.010*\"adopt\" + 0.009*\"cage\" + 0.009*\"long\" + 0.009*\"call\" + 0.008*\"hour\"\n",
      "Topic Number 8: 0.029*\"one\" + 0.026*\"play\" + 0.023*\"white\" + 0.019*\"kitten\" + 0.019*\"black\" + 0.014*\"kitti\" + 0.014*\"cute\" + 0.013*\"brown\" + 0.012*\"cat\"\n",
      "Topic Number 9: 0.043*\"adopt\" + 0.024*\"must\" + 0.013*\"plea\" + 0.012*\"klang\" + 0.010*\"provid\" + 0.008*\"day\" + 0.007*\"dog\" + 0.007*\"call\" + 0.007*\"pm\"\n",
      "Topic Number 10: 0.038*\"puppi\" + 0.032*\"adopt\" + 0.014*\"dog\" + 0.011*\"found\" + 0.011*\"plea\" + 0.010*\"pup\" + 0.009*\"home\" + 0.009*\"love\" + 0.008*\"current\"\n",
      "---------------------------------------------------------------------------------------------------------------------\n"
     ]
    }
   ],
   "source": [
    "# Build the LDA model\n",
    "lda = models.LdaModel(corpus=corpra, num_topics=t, id2word=D)\n",
    "\n",
    "print('LDA model')\n",
    "for index in range(0,t):\n",
    "    # top 9 topics\n",
    "    print(\"Topic Number %s:\" % str(index+1), lda.print_topic(index, 9))\n",
    "print(\"-\" * 117)"
   ]
  },
  {
   "cell_type": "code",
   "execution_count": 15,
   "metadata": {},
   "outputs": [
    {
     "name": "stdout",
     "output_type": "stream",
     "text": [
      "LSI model\n",
      "Topic Number 1: 0.429*\"adopt\" + 0.280*\"love\" + 0.262*\"home\" + 0.240*\"dog\" + 0.240*\"cat\" + 0.211*\"plea\" + 0.151*\"kitten\" + 0.121*\"play\" + 0.117*\"puppi\"\n",
      "Topic Number 2: 0.609*\"cat\" + -0.576*\"dog\" + 0.361*\"kitten\" + -0.223*\"puppi\" + -0.087*\"home\" + -0.080*\"good\" + 0.077*\"play\" + 0.072*\"litter\" + -0.069*\"plea\"\n",
      "Topic Number 3: 0.718*\"adopt\" + -0.383*\"love\" + -0.220*\"home\" + -0.166*\"cat\" + -0.156*\"dog\" + 0.118*\"vaccin\" + -0.114*\"play\" + -0.099*\"like\" + -0.096*\"good\"\n",
      "Topic Number 4: -0.570*\"dog\" + 0.405*\"home\" + -0.385*\"cat\" + 0.346*\"love\" + 0.209*\"puppi\" + 0.103*\"look\" + 0.100*\"plea\" + -0.093*\"owner\" + -0.091*\"hous\"\n",
      "Topic Number 5: -0.565*\"love\" + 0.485*\"puppi\" + -0.262*\"adopt\" + 0.250*\"kitten\" + 0.139*\"plea\" + -0.129*\"must\" + 0.128*\"home\" + 0.127*\"femal\" + 0.117*\"one\"\n",
      "Topic Number 6: -0.407*\"saya\" + -0.330*\"dan\" + -0.314*\"kuce\" + -0.285*\"dia\" + -0.267*\"kitten\" + -0.248*\"yang\" + 0.204*\"cat\" + -0.182*\"di\" + -0.140*\"untuk\"\n",
      "Topic Number 7: -0.595*\"kitten\" + 0.464*\"cat\" + 0.228*\"puppi\" + -0.184*\"play\" + 0.179*\"home\" + 0.158*\"saya\" + 0.130*\"u\" + 0.129*\"plea\" + 0.117*\"dia\"\n",
      "Topic Number 8: 0.522*\"plea\" + 0.228*\"day\" + 0.186*\"klang\" + -0.184*\"dog\" + 0.163*\"turn\" + 0.138*\"pound\" + 0.130*\"right\" + 0.125*\"call\" + -0.124*\"adopt\"\n",
      "Topic Number 9: 0.575*\"home\" + -0.534*\"puppi\" + -0.354*\"love\" + -0.185*\"play\" + 0.135*\"kitten\" + 0.132*\"good\" + 0.105*\"dog\" + 0.097*\"give\" + -0.096*\"like\"\n",
      "Topic Number 10: -0.265*\"kitten\" + -0.258*\"adopt\" + 0.233*\"must\" + 0.204*\"u\" + 0.201*\"vaccin\" + 0.197*\"plea\" + 0.192*\"time\" + -0.190*\"home\" + -0.181*\"love\"\n",
      "---------------------------------------------------------------------------------------------------------------------\n"
     ]
    }
   ],
   "source": [
    "# Build the LSI model\n",
    "lsi = models.LsiModel(corpus=corpra, num_topics=t, id2word=D)\n",
    "\n",
    "print('LSI model')\n",
    "for index in range(0,t):\n",
    "    # top 9 topics\n",
    "    print(\"Topic Number %s:\" % str(index+1), lsi.print_topic(index, 9))\n",
    "print(\"-\" * 117)"
   ]
  },
  {
   "cell_type": "code",
   "execution_count": 16,
   "metadata": {},
   "outputs": [
    {
     "name": "stdout",
     "output_type": "stream",
     "text": [
      "2701\n",
      "-----This is the description from test that I am going to predict:-----\n",
      "Rescued from pepper plantation on my work visit. His ears bit wounded when first rescued. Already visit the vet for his first check and meds. Dispite his ear condition, he's one healthy orange kitten, potty trained and do well while traveling in car (licking his fur and sleeping!)\n"
     ]
    }
   ],
   "source": [
    "# Randomly pick one description from test to predict similarity.\n",
    "import random\n",
    "i = random.randint(1,3948) # since my test dataset has 3498 values \n",
    "print(i)\n",
    "test_data = test.loc[i,'Description']\n",
    "print('-----This is the description from test that I am going to predict:-----')\n",
    "print(test_data)"
   ]
  },
  {
   "cell_type": "code",
   "execution_count": 17,
   "metadata": {},
   "outputs": [
    {
     "name": "stdout",
     "output_type": "stream",
     "text": [
      "[(7180, 0.99829894), (805, 0.99773306), (2421, 0.99581724), (6236, 0.9957596), (8158, 0.9948687), (13564, 0.9927613), (6994, 0.9923456), (6603, 0.99125856), (7231, 0.9912456), (13528, 0.99113536)]\n",
      "Rescued when they were 2 days old, now they are almost 4 months old. Loves to eat and be cuddled. br\n"
     ]
    }
   ],
   "source": [
    "# Compare LDA model and LSI model to predict similarity.\n",
    "lda_i = similarities.MatrixSimilarity(lda[corpra])\n",
    "m = D.doc2bow(cleandata(test_data))\n",
    "# Perform some queries\n",
    "similar_lda = lda_i[lda[m]]\n",
    "# Sort the similarities\n",
    "LDA = sorted(enumerate(similar_lda), key=lambda item: -item[1])\n",
    "# Top 10 most similar documents:\n",
    "print(LDA[:10])\n",
    "# The most similar document\n",
    "doc_id, similarity = LDA[1]\n",
    "print(train_data[doc_id][:100])"
   ]
  },
  {
   "cell_type": "code",
   "execution_count": 18,
   "metadata": {},
   "outputs": [
    {
     "name": "stdout",
     "output_type": "stream",
     "text": [
      "[(5253, 0.9864724), (12639, 0.98629636), (12606, 0.98318285), (14678, 0.9799685), (8968, 0.97936726), (6153, 0.978994), (978, 0.9785109), (970, 0.97549975), (6080, 0.97537917), (599, 0.97516)]\n",
      "Rescued when they were 2 days old, now they are almost 4 months old. Loves to eat and be cuddled. br\n"
     ]
    }
   ],
   "source": [
    "# Do the same similarity queries by using LSI model\n",
    "lsi_i = similarities.MatrixSimilarity(lsi[corpra])\n",
    "similar_lsi = lsi_i[lsi[m]]\n",
    "LSI = sorted(enumerate(similar_lsi), key=lambda item:-item[1])\n",
    "print(LSI[:10])\n",
    "doc_id_lsi, similarity_lsi = LSI[1]\n",
    "print(train_data[doc_id][:100])"
   ]
  },
  {
   "cell_type": "markdown",
   "metadata": {},
   "source": [
    "## Multinomial -- first try on prediction"
   ]
  },
  {
   "cell_type": "code",
   "execution_count": 20,
   "metadata": {},
   "outputs": [],
   "source": [
    "# Choose the correct columns\n",
    "trainMB = train[['Description','AdoptionSpeed']]\n",
    "train_null = np.array(trainMB[trainMB['Description'].isnull() == True].index)\n",
    "trainMB = train.drop(train_null)"
   ]
  },
  {
   "cell_type": "code",
   "execution_count": 21,
   "metadata": {},
   "outputs": [
    {
     "data": {
      "text/plain": [
       "((11994,), (2999,), (11994,), (2999,))"
      ]
     },
     "execution_count": 21,
     "metadata": {},
     "output_type": "execute_result"
    }
   ],
   "source": [
    "# Split the X and Y data into train and valid:\n",
    "\n",
    "X_train, X_valid, Y_train, Y_valid = train_test_split(trainMB['Description'], trainMB['AdoptionSpeed'], \n",
    "                                                      test_size=.2, random_state=12)\n",
    "X_train.shape, X_valid.shape, Y_train.shape, Y_valid.shape"
   ]
  },
  {
   "cell_type": "code",
   "execution_count": 22,
   "metadata": {},
   "outputs": [],
   "source": [
    "# Define data cleaning process(tokenize, lower cases, lemmatizer) for random forest\n",
    "# and apply data cleaning on X_train and X_valid\n",
    "\n",
    "wordnet_lemmatizer = WordNetLemmatizer() # same as LDA and LSI but do not remove stop words\n",
    "\n",
    "def nlp_rf(reviews):\n",
    "    token = [word_tokenize(i) for i in reviews]\n",
    "    token1 = [[d.lower() for d in words if d.isalpha() == True] for words in token]\n",
    "    lemma = [[wordnet_lemmatizer.lemmatize(word) for word in doc] for doc in token1]\n",
    "    review = [\" \".join(i) for i in lemma]\n",
    "    return review"
   ]
  },
  {
   "cell_type": "code",
   "execution_count": 23,
   "metadata": {},
   "outputs": [],
   "source": [
    "# Apply data cleaning on X_train and X_valid\n",
    "\n",
    "X_train_clean = nlp_rf(X_train)\n",
    "X_valid_clean = nlp_rf(X_valid)"
   ]
  },
  {
   "cell_type": "code",
   "execution_count": 24,
   "metadata": {},
   "outputs": [],
   "source": [
    "# Machine Learning models on Description\n",
    "from sklearn.linear_model import SGDClassifier\n",
    "tfvec = tfidfV(stop_words='english', ngram_range=(1, 1), lowercase=False)\n",
    "model = Pipeline([('vectorizer', tfvec),('rf', MultinomialNB(alpha=0.0))])"
   ]
  },
  {
   "cell_type": "code",
   "execution_count": 25,
   "metadata": {},
   "outputs": [
    {
     "name": "stdout",
     "output_type": "stream",
     "text": [
      "             precision    recall  f1-score   support\n",
      "\n",
      "          0       0.50      0.08      0.14        85\n",
      "          1       0.36      0.24      0.29       656\n",
      "          2       0.34      0.38      0.36       823\n",
      "          3       0.31      0.27      0.29       652\n",
      "          4       0.38      0.51      0.44       783\n",
      "\n",
      "avg / total       0.35      0.35      0.34      2999\n",
      "\n"
     ]
    },
    {
     "name": "stderr",
     "output_type": "stream",
     "text": [
      "/Users/elainny/anaconda/lib/python3.6/site-packages/sklearn/feature_extraction/text.py:1089: FutureWarning: Conversion of the second argument of issubdtype from `float` to `np.floating` is deprecated. In future, it will be treated as `np.float64 == np.dtype(float).type`.\n",
      "  if hasattr(X, 'dtype') and np.issubdtype(X.dtype, np.float):\n",
      "/Users/elainny/anaconda/lib/python3.6/site-packages/sklearn/naive_bayes.py:472: UserWarning: alpha too small will result in numeric errors, setting alpha = 1.0e-10\n",
      "  'setting alpha = %.1e' % _ALPHA_MIN)\n"
     ]
    }
   ],
   "source": [
    "# Y_pred and report\n",
    "model.fit(X_train_clean, Y_train)\n",
    "Y_prediction = model.predict(X_valid_clean)\n",
    "print(report(Y_valid, Y_prediction))"
   ]
  },
  {
   "cell_type": "markdown",
   "metadata": {},
   "source": [
    "## NLP for Machine Learning -- choose the best model"
   ]
  },
  {
   "cell_type": "markdown",
   "metadata": {},
   "source": [
    "Notice: Here, I choose the first 7000 rows to calcualte best model, since it needs at least 2 hours to run the code if I choose the whole dataset. To run the whole dataset, I connect to AWS and run it through aws ubuntu, and the code is inside the nlp2.py"
   ]
  },
  {
   "cell_type": "code",
   "execution_count": 26,
   "metadata": {},
   "outputs": [
    {
     "data": {
      "text/plain": [
       "'!\"#$%&\\'()*+,-./:;<=>?@[\\\\]^_`{|}~'"
      ]
     },
     "execution_count": 26,
     "metadata": {},
     "output_type": "execute_result"
    }
   ],
   "source": [
    "# Import package: string\n",
    "string.punctuation"
   ]
  },
  {
   "cell_type": "code",
   "execution_count": 27,
   "metadata": {
    "scrolled": true
   },
   "outputs": [
    {
     "data": {
      "text/html": [
       "<div>\n",
       "<style scoped>\n",
       "    .dataframe tbody tr th:only-of-type {\n",
       "        vertical-align: middle;\n",
       "    }\n",
       "\n",
       "    .dataframe tbody tr th {\n",
       "        vertical-align: top;\n",
       "    }\n",
       "\n",
       "    .dataframe thead th {\n",
       "        text-align: right;\n",
       "    }\n",
       "</style>\n",
       "<table border=\"1\" class=\"dataframe\">\n",
       "  <thead>\n",
       "    <tr style=\"text-align: right;\">\n",
       "      <th></th>\n",
       "      <th>Description</th>\n",
       "      <th>AdoptionSpeed</th>\n",
       "    </tr>\n",
       "  </thead>\n",
       "  <tbody>\n",
       "    <tr>\n",
       "      <th>6995</th>\n",
       "      <td>Healthy stray mother living at our area, gave ...</td>\n",
       "      <td>4</td>\n",
       "    </tr>\n",
       "    <tr>\n",
       "      <th>6996</th>\n",
       "      <td>I adopted a stray unspayed female. Before we m...</td>\n",
       "      <td>0</td>\n",
       "    </tr>\n",
       "    <tr>\n",
       "      <th>6997</th>\n",
       "      <td>I found 12 cute puppies. And putting it on adp...</td>\n",
       "      <td>4</td>\n",
       "    </tr>\n",
       "    <tr>\n",
       "      <th>6998</th>\n",
       "      <td>Skywalker is a playful and happy boy. He was r...</td>\n",
       "      <td>1</td>\n",
       "    </tr>\n",
       "    <tr>\n",
       "      <th>6999</th>\n",
       "      <td>Lovey is gentle, super loving and affectionate...</td>\n",
       "      <td>1</td>\n",
       "    </tr>\n",
       "  </tbody>\n",
       "</table>\n",
       "</div>"
      ],
      "text/plain": [
       "                                            Description  AdoptionSpeed\n",
       "6995  Healthy stray mother living at our area, gave ...              4\n",
       "6996  I adopted a stray unspayed female. Before we m...              0\n",
       "6997  I found 12 cute puppies. And putting it on adp...              4\n",
       "6998  Skywalker is a playful and happy boy. He was r...              1\n",
       "6999  Lovey is gentle, super loving and affectionate...              1"
      ]
     },
     "execution_count": 27,
     "metadata": {},
     "output_type": "execute_result"
    }
   ],
   "source": [
    "# Select the first 7000 rows to do this, since there are 14993 rows, which needs plenty of time to run\n",
    "train7000 = train[:7000]\n",
    "train7000.tail()"
   ]
  },
  {
   "cell_type": "code",
   "execution_count": 28,
   "metadata": {},
   "outputs": [],
   "source": [
    "# apply puctuation removal, tokenize, stopwords removal, stemming and lemmatizer\n",
    "# I use the same cleandata function as LDA/LSI model\n",
    "# define stopwords, lemmatizer, and data cleaning process\n",
    "stop_words = set(stopwords.words(\"english\"))\n",
    "# Lemmatizer\n",
    "wordnet_lemmatizer = WordNetLemmatizer()\n",
    "# Stemming\n",
    "stemming = nltk.PorterStemmer()\n",
    "\n",
    "\n",
    "def cleandata(review) :\n",
    "    clean_des = re.sub('[^a-zA-Z]', ' ', str(review)) # Remove punctuation/words not starting with alphabet\n",
    "    clean_des = clean_des.lower() # make words lower cases\n",
    "    words = word_tokenize(clean_des) # tokenize\n",
    "    words = [w for w in words if not w in stop_words] # stop words removal\n",
    "    words = [stemming.stem(word) for word in words] # Stemming\n",
    "    words = [wordnet_lemmatizer.lemmatize(w) for w in words] #Lemmatize words\n",
    "    return words"
   ]
  },
  {
   "cell_type": "markdown",
   "metadata": {},
   "source": [
    "I comment out the following code since they are used to create bag-of-words. If only wanted to check bag-of-words, uncomment the following 4 parts."
   ]
  },
  {
   "cell_type": "code",
   "execution_count": null,
   "metadata": {
    "scrolled": true
   },
   "outputs": [],
   "source": [
    "# Apply CountVectorizer: N-Grams\n",
    "# Do the 2-gram\n",
    "#cv_vectorizer = CountVectorizer(ngram_range=(2,2),analyzer=cleandata)\n",
    "#X_cv = cv_vectorizer.fit_transform(train7000['Description'])\n",
    "#print(X_cv.shape)\n",
    "#print(cv_vectorizer.get_feature_names())"
   ]
  },
  {
   "cell_type": "code",
   "execution_count": null,
   "metadata": {},
   "outputs": [],
   "source": [
    "#Xdf_cv = pd.DataFrame(X_cv.toarray(), columns=cv_vectorizer.get_feature_names())\n",
    "#Xdf_cv.head(10)"
   ]
  },
  {
   "cell_type": "code",
   "execution_count": null,
   "metadata": {
    "scrolled": true
   },
   "outputs": [],
   "source": [
    "# TF-IDF\n",
    "#tfidf_vectorizer = tfidfV(analyzer=cleandata)\n",
    "#X_tfidf = tfidf_vectorizer.fit_transform(train7000['Description'])\n",
    "#print(X_tfidf.shape)\n",
    "#print(tfidf_vectorizer.get_feature_names())"
   ]
  },
  {
   "cell_type": "code",
   "execution_count": null,
   "metadata": {
    "scrolled": true
   },
   "outputs": [],
   "source": [
    "#Xdf_tfidf = pd.DataFrame(X_tfidf.toarray(), columns=tfidf_vectorizer.get_feature_names())\n",
    "#Xdf_tfidf.head(10)"
   ]
  },
  {
   "cell_type": "code",
   "execution_count": 29,
   "metadata": {},
   "outputs": [
    {
     "name": "stderr",
     "output_type": "stream",
     "text": [
      "/Users/elainny/anaconda/lib/python3.6/site-packages/ipykernel_launcher.py:4: SettingWithCopyWarning: \n",
      "A value is trying to be set on a copy of a slice from a DataFrame.\n",
      "Try using .loc[row_indexer,col_indexer] = value instead\n",
      "\n",
      "See the caveats in the documentation: http://pandas.pydata.org/pandas-docs/stable/indexing.html#indexing-view-versus-copy\n",
      "  after removing the cwd from sys.path.\n",
      "/Users/elainny/anaconda/lib/python3.6/site-packages/ipykernel_launcher.py:11: SettingWithCopyWarning: \n",
      "A value is trying to be set on a copy of a slice from a DataFrame.\n",
      "Try using .loc[row_indexer,col_indexer] = value instead\n",
      "\n",
      "See the caveats in the documentation: http://pandas.pydata.org/pandas-docs/stable/indexing.html#indexing-view-versus-copy\n",
      "  # This is added back by InteractiveShellApp.init_path()\n"
     ]
    },
    {
     "data": {
      "text/html": [
       "<div>\n",
       "<style scoped>\n",
       "    .dataframe tbody tr th:only-of-type {\n",
       "        vertical-align: middle;\n",
       "    }\n",
       "\n",
       "    .dataframe tbody tr th {\n",
       "        vertical-align: top;\n",
       "    }\n",
       "\n",
       "    .dataframe thead th {\n",
       "        text-align: right;\n",
       "    }\n",
       "</style>\n",
       "<table border=\"1\" class=\"dataframe\">\n",
       "  <thead>\n",
       "    <tr style=\"text-align: right;\">\n",
       "      <th></th>\n",
       "      <th>Description</th>\n",
       "      <th>AdoptionSpeed</th>\n",
       "      <th>length</th>\n",
       "      <th>punctuation-percentage</th>\n",
       "    </tr>\n",
       "  </thead>\n",
       "  <tbody>\n",
       "    <tr>\n",
       "      <th>0</th>\n",
       "      <td>Nibble is a 3+ month old ball of cuteness. He ...</td>\n",
       "      <td>2</td>\n",
       "      <td>291</td>\n",
       "      <td>2.7</td>\n",
       "    </tr>\n",
       "    <tr>\n",
       "      <th>1</th>\n",
       "      <td>I just found it alone yesterday near my apartm...</td>\n",
       "      <td>0</td>\n",
       "      <td>96</td>\n",
       "      <td>2.1</td>\n",
       "    </tr>\n",
       "    <tr>\n",
       "      <th>2</th>\n",
       "      <td>Their pregnant mother was dumped by her irresp...</td>\n",
       "      <td>3</td>\n",
       "      <td>325</td>\n",
       "      <td>2.8</td>\n",
       "    </tr>\n",
       "    <tr>\n",
       "      <th>3</th>\n",
       "      <td>Good guard dog, very alert, active, obedience ...</td>\n",
       "      <td>2</td>\n",
       "      <td>122</td>\n",
       "      <td>5.7</td>\n",
       "    </tr>\n",
       "    <tr>\n",
       "      <th>4</th>\n",
       "      <td>This handsome yet cute boy is up for adoption....</td>\n",
       "      <td>2</td>\n",
       "      <td>310</td>\n",
       "      <td>2.9</td>\n",
       "    </tr>\n",
       "  </tbody>\n",
       "</table>\n",
       "</div>"
      ],
      "text/plain": [
       "                                         Description  AdoptionSpeed  length  \\\n",
       "0  Nibble is a 3+ month old ball of cuteness. He ...              2     291   \n",
       "1  I just found it alone yesterday near my apartm...              0      96   \n",
       "2  Their pregnant mother was dumped by her irresp...              3     325   \n",
       "3  Good guard dog, very alert, active, obedience ...              2     122   \n",
       "4  This handsome yet cute boy is up for adoption....              2     310   \n",
       "\n",
       "   punctuation-percentage  \n",
       "0                     2.7  \n",
       "1                     2.1  \n",
       "2                     2.8  \n",
       "3                     5.7  \n",
       "4                     2.9  "
      ]
     },
     "execution_count": 29,
     "metadata": {},
     "output_type": "execute_result"
    }
   ],
   "source": [
    "# Build Machine Learning Classifiers with Random Forest model and GridSearchCV\n",
    "# Need to calculate the length and punctuation percentage of each description\n",
    "# 1st: calculate length of message without counting space in\n",
    "train7000['length'] = train7000['Description'].apply(lambda length: len(length) - length.count(\" \"))\n",
    "\n",
    "#2nd: function of puncutuation number to apply on every description\n",
    "def punct_percentage(description):\n",
    "    count = sum([1 for symbol in description if symbol in string.punctuation]) # string.punctuation defined above\n",
    "    return 100 * round(count/(len(description) - description.count(\" \")), 3)\n",
    "\n",
    "train7000['punctuation-percentage'] = train7000['Description'].apply(lambda des: punct_percentage(des))\n",
    "\n",
    "train7000.head()"
   ]
  },
  {
   "cell_type": "code",
   "execution_count": 30,
   "metadata": {},
   "outputs": [
    {
     "name": "stderr",
     "output_type": "stream",
     "text": [
      "/Users/elainny/anaconda/lib/python3.6/site-packages/sklearn/feature_extraction/text.py:1089: FutureWarning: Conversion of the second argument of issubdtype from `float` to `np.floating` is deprecated. In future, it will be treated as `np.float64 == np.dtype(float).type`.\n",
      "  if hasattr(X, 'dtype') and np.issubdtype(X.dtype, np.float):\n"
     ]
    }
   ],
   "source": [
    "# Exploring parameters using GridSearchCV\n",
    "# TF-IDF\n",
    "tfidf_vectorizer = tfidfV(analyzer=nlp_rf)\n",
    "X_tfidf = tfidf_vectorizer.fit_transform(train7000['Description'])\n",
    "X_tfidf_clf = pd.concat([train7000['length'], train7000['punctuation-percentage'], \n",
    "                         pd.DataFrame(X_tfidf.toarray())], axis=1)\n",
    "\n",
    "# CountVectorizer\n",
    "cv_vectorizer = CountVectorizer(ngram_range=(2,2),analyzer=nlp_rf)\n",
    "X_cv = cv_vectorizer.fit_transform(train7000['Description'])\n",
    "X_cv_clf = pd.concat([train7000['length'], train7000['punctuation-percentage'], \n",
    "                                   pd.DataFrame(X_cv.toarray())], axis=1)"
   ]
  },
  {
   "cell_type": "code",
   "execution_count": 31,
   "metadata": {},
   "outputs": [
    {
     "data": {
      "text/html": [
       "<div>\n",
       "<style scoped>\n",
       "    .dataframe tbody tr th:only-of-type {\n",
       "        vertical-align: middle;\n",
       "    }\n",
       "\n",
       "    .dataframe tbody tr th {\n",
       "        vertical-align: top;\n",
       "    }\n",
       "\n",
       "    .dataframe thead th {\n",
       "        text-align: right;\n",
       "    }\n",
       "</style>\n",
       "<table border=\"1\" class=\"dataframe\">\n",
       "  <thead>\n",
       "    <tr style=\"text-align: right;\">\n",
       "      <th></th>\n",
       "      <th>mean_fit_time</th>\n",
       "      <th>std_fit_time</th>\n",
       "      <th>mean_score_time</th>\n",
       "      <th>std_score_time</th>\n",
       "      <th>param_max_depth</th>\n",
       "      <th>param_n_estimators</th>\n",
       "      <th>params</th>\n",
       "      <th>split0_test_score</th>\n",
       "      <th>split1_test_score</th>\n",
       "      <th>split2_test_score</th>\n",
       "      <th>...</th>\n",
       "      <th>mean_test_score</th>\n",
       "      <th>std_test_score</th>\n",
       "      <th>rank_test_score</th>\n",
       "      <th>split0_train_score</th>\n",
       "      <th>split1_train_score</th>\n",
       "      <th>split2_train_score</th>\n",
       "      <th>split3_train_score</th>\n",
       "      <th>split4_train_score</th>\n",
       "      <th>mean_train_score</th>\n",
       "      <th>std_train_score</th>\n",
       "    </tr>\n",
       "  </thead>\n",
       "  <tbody>\n",
       "    <tr>\n",
       "      <th>8</th>\n",
       "      <td>16.733171</td>\n",
       "      <td>0.735680</td>\n",
       "      <td>0.226428</td>\n",
       "      <td>0.041849</td>\n",
       "      <td>90</td>\n",
       "      <td>300</td>\n",
       "      <td>{'max_depth': 90, 'n_estimators': 300}</td>\n",
       "      <td>0.331669</td>\n",
       "      <td>0.324054</td>\n",
       "      <td>0.379286</td>\n",
       "      <td>...</td>\n",
       "      <td>0.337571</td>\n",
       "      <td>0.021657</td>\n",
       "      <td>1</td>\n",
       "      <td>0.978564</td>\n",
       "      <td>0.978746</td>\n",
       "      <td>0.978929</td>\n",
       "      <td>0.977861</td>\n",
       "      <td>0.977865</td>\n",
       "      <td>0.978393</td>\n",
       "      <td>0.000448</td>\n",
       "    </tr>\n",
       "    <tr>\n",
       "      <th>11</th>\n",
       "      <td>12.143754</td>\n",
       "      <td>1.259070</td>\n",
       "      <td>0.139328</td>\n",
       "      <td>0.013056</td>\n",
       "      <td>None</td>\n",
       "      <td>300</td>\n",
       "      <td>{'max_depth': None, 'n_estimators': 300}</td>\n",
       "      <td>0.325250</td>\n",
       "      <td>0.326196</td>\n",
       "      <td>0.372857</td>\n",
       "      <td>...</td>\n",
       "      <td>0.337429</td>\n",
       "      <td>0.017976</td>\n",
       "      <td>2</td>\n",
       "      <td>0.978564</td>\n",
       "      <td>0.978746</td>\n",
       "      <td>0.978929</td>\n",
       "      <td>0.977861</td>\n",
       "      <td>0.977865</td>\n",
       "      <td>0.978393</td>\n",
       "      <td>0.000448</td>\n",
       "    </tr>\n",
       "    <tr>\n",
       "      <th>2</th>\n",
       "      <td>17.004752</td>\n",
       "      <td>0.165209</td>\n",
       "      <td>0.277400</td>\n",
       "      <td>0.006209</td>\n",
       "      <td>30</td>\n",
       "      <td>300</td>\n",
       "      <td>{'max_depth': 30, 'n_estimators': 300}</td>\n",
       "      <td>0.321683</td>\n",
       "      <td>0.324768</td>\n",
       "      <td>0.365714</td>\n",
       "      <td>...</td>\n",
       "      <td>0.336857</td>\n",
       "      <td>0.016828</td>\n",
       "      <td>3</td>\n",
       "      <td>0.978564</td>\n",
       "      <td>0.978746</td>\n",
       "      <td>0.978929</td>\n",
       "      <td>0.977861</td>\n",
       "      <td>0.977865</td>\n",
       "      <td>0.978393</td>\n",
       "      <td>0.000448</td>\n",
       "    </tr>\n",
       "    <tr>\n",
       "      <th>7</th>\n",
       "      <td>9.008424</td>\n",
       "      <td>0.025280</td>\n",
       "      <td>0.153550</td>\n",
       "      <td>0.008059</td>\n",
       "      <td>90</td>\n",
       "      <td>150</td>\n",
       "      <td>{'max_depth': 90, 'n_estimators': 150}</td>\n",
       "      <td>0.332382</td>\n",
       "      <td>0.317630</td>\n",
       "      <td>0.367857</td>\n",
       "      <td>...</td>\n",
       "      <td>0.336857</td>\n",
       "      <td>0.016660</td>\n",
       "      <td>3</td>\n",
       "      <td>0.978564</td>\n",
       "      <td>0.978568</td>\n",
       "      <td>0.978929</td>\n",
       "      <td>0.977861</td>\n",
       "      <td>0.977865</td>\n",
       "      <td>0.978357</td>\n",
       "      <td>0.000425</td>\n",
       "    </tr>\n",
       "    <tr>\n",
       "      <th>5</th>\n",
       "      <td>17.616156</td>\n",
       "      <td>0.098348</td>\n",
       "      <td>0.291223</td>\n",
       "      <td>0.010450</td>\n",
       "      <td>60</td>\n",
       "      <td>300</td>\n",
       "      <td>{'max_depth': 60, 'n_estimators': 300}</td>\n",
       "      <td>0.324536</td>\n",
       "      <td>0.333333</td>\n",
       "      <td>0.372143</td>\n",
       "      <td>...</td>\n",
       "      <td>0.334286</td>\n",
       "      <td>0.019714</td>\n",
       "      <td>5</td>\n",
       "      <td>0.978564</td>\n",
       "      <td>0.978746</td>\n",
       "      <td>0.978929</td>\n",
       "      <td>0.977861</td>\n",
       "      <td>0.977865</td>\n",
       "      <td>0.978393</td>\n",
       "      <td>0.000448</td>\n",
       "    </tr>\n",
       "  </tbody>\n",
       "</table>\n",
       "<p>5 rows × 22 columns</p>\n",
       "</div>"
      ],
      "text/plain": [
       "    mean_fit_time  std_fit_time  mean_score_time  std_score_time  \\\n",
       "8       16.733171      0.735680         0.226428        0.041849   \n",
       "11      12.143754      1.259070         0.139328        0.013056   \n",
       "2       17.004752      0.165209         0.277400        0.006209   \n",
       "7        9.008424      0.025280         0.153550        0.008059   \n",
       "5       17.616156      0.098348         0.291223        0.010450   \n",
       "\n",
       "   param_max_depth param_n_estimators  \\\n",
       "8               90                300   \n",
       "11            None                300   \n",
       "2               30                300   \n",
       "7               90                150   \n",
       "5               60                300   \n",
       "\n",
       "                                      params  split0_test_score  \\\n",
       "8     {'max_depth': 90, 'n_estimators': 300}           0.331669   \n",
       "11  {'max_depth': None, 'n_estimators': 300}           0.325250   \n",
       "2     {'max_depth': 30, 'n_estimators': 300}           0.321683   \n",
       "7     {'max_depth': 90, 'n_estimators': 150}           0.332382   \n",
       "5     {'max_depth': 60, 'n_estimators': 300}           0.324536   \n",
       "\n",
       "    split1_test_score  split2_test_score       ...         mean_test_score  \\\n",
       "8            0.324054           0.379286       ...                0.337571   \n",
       "11           0.326196           0.372857       ...                0.337429   \n",
       "2            0.324768           0.365714       ...                0.336857   \n",
       "7            0.317630           0.367857       ...                0.336857   \n",
       "5            0.333333           0.372143       ...                0.334286   \n",
       "\n",
       "    std_test_score  rank_test_score  split0_train_score  split1_train_score  \\\n",
       "8         0.021657                1            0.978564            0.978746   \n",
       "11        0.017976                2            0.978564            0.978746   \n",
       "2         0.016828                3            0.978564            0.978746   \n",
       "7         0.016660                3            0.978564            0.978568   \n",
       "5         0.019714                5            0.978564            0.978746   \n",
       "\n",
       "    split2_train_score  split3_train_score  split4_train_score  \\\n",
       "8             0.978929            0.977861            0.977865   \n",
       "11            0.978929            0.977861            0.977865   \n",
       "2             0.978929            0.977861            0.977865   \n",
       "7             0.978929            0.977861            0.977865   \n",
       "5             0.978929            0.977861            0.977865   \n",
       "\n",
       "    mean_train_score  std_train_score  \n",
       "8           0.978393         0.000448  \n",
       "11          0.978393         0.000448  \n",
       "2           0.978393         0.000448  \n",
       "7           0.978357         0.000425  \n",
       "5           0.978393         0.000448  \n",
       "\n",
       "[5 rows x 22 columns]"
      ]
     },
     "execution_count": 31,
     "metadata": {},
     "output_type": "execute_result"
    }
   ],
   "source": [
    "# For CountVectorizer\n",
    "rf = RandomForestClassifier()\n",
    "param = {'n_estimators': [10, 150, 300],\n",
    "        'max_depth': [30, 60, 90, None]}\n",
    "\n",
    "gs_cv = GridSearchCV(rf, param, cv=5, n_jobs=-1)# n_jobs=-1 for parallelizing search\n",
    "gs_cv_fit = gs_cv.fit(X_cv_clf, train7000['AdoptionSpeed'])\n",
    "pd.DataFrame(gs_cv_fit.cv_results_).sort_values('mean_test_score', ascending=False).head()"
   ]
  },
  {
   "cell_type": "markdown",
   "metadata": {},
   "source": [
    "The mean_test_score for n_estimators =300 and max_depth = 60 gives the best result. Where n_estimators is the number of trees in the forest.(group of decision trees) and max_depth is the max number of levels in each decision tree."
   ]
  },
  {
   "cell_type": "code",
   "execution_count": 32,
   "metadata": {},
   "outputs": [
    {
     "data": {
      "text/html": [
       "<div>\n",
       "<style scoped>\n",
       "    .dataframe tbody tr th:only-of-type {\n",
       "        vertical-align: middle;\n",
       "    }\n",
       "\n",
       "    .dataframe tbody tr th {\n",
       "        vertical-align: top;\n",
       "    }\n",
       "\n",
       "    .dataframe thead th {\n",
       "        text-align: right;\n",
       "    }\n",
       "</style>\n",
       "<table border=\"1\" class=\"dataframe\">\n",
       "  <thead>\n",
       "    <tr style=\"text-align: right;\">\n",
       "      <th></th>\n",
       "      <th>mean_fit_time</th>\n",
       "      <th>std_fit_time</th>\n",
       "      <th>mean_score_time</th>\n",
       "      <th>std_score_time</th>\n",
       "      <th>param_max_depth</th>\n",
       "      <th>param_n_estimators</th>\n",
       "      <th>params</th>\n",
       "      <th>split0_test_score</th>\n",
       "      <th>split1_test_score</th>\n",
       "      <th>split2_test_score</th>\n",
       "      <th>...</th>\n",
       "      <th>mean_test_score</th>\n",
       "      <th>std_test_score</th>\n",
       "      <th>rank_test_score</th>\n",
       "      <th>split0_train_score</th>\n",
       "      <th>split1_train_score</th>\n",
       "      <th>split2_train_score</th>\n",
       "      <th>split3_train_score</th>\n",
       "      <th>split4_train_score</th>\n",
       "      <th>mean_train_score</th>\n",
       "      <th>std_train_score</th>\n",
       "    </tr>\n",
       "  </thead>\n",
       "  <tbody>\n",
       "    <tr>\n",
       "      <th>1</th>\n",
       "      <td>8.578330</td>\n",
       "      <td>0.028482</td>\n",
       "      <td>0.146759</td>\n",
       "      <td>0.005201</td>\n",
       "      <td>30</td>\n",
       "      <td>150</td>\n",
       "      <td>{'max_depth': 30, 'n_estimators': 150}</td>\n",
       "      <td>0.358060</td>\n",
       "      <td>0.334761</td>\n",
       "      <td>0.367857</td>\n",
       "      <td>...</td>\n",
       "      <td>0.345571</td>\n",
       "      <td>0.014593</td>\n",
       "      <td>1</td>\n",
       "      <td>0.978564</td>\n",
       "      <td>0.978746</td>\n",
       "      <td>0.978929</td>\n",
       "      <td>0.977861</td>\n",
       "      <td>0.977865</td>\n",
       "      <td>0.978393</td>\n",
       "      <td>0.000448</td>\n",
       "    </tr>\n",
       "    <tr>\n",
       "      <th>2</th>\n",
       "      <td>17.051253</td>\n",
       "      <td>0.031948</td>\n",
       "      <td>0.258071</td>\n",
       "      <td>0.002978</td>\n",
       "      <td>30</td>\n",
       "      <td>300</td>\n",
       "      <td>{'max_depth': 30, 'n_estimators': 300}</td>\n",
       "      <td>0.338088</td>\n",
       "      <td>0.336188</td>\n",
       "      <td>0.363571</td>\n",
       "      <td>...</td>\n",
       "      <td>0.342857</td>\n",
       "      <td>0.013525</td>\n",
       "      <td>2</td>\n",
       "      <td>0.978564</td>\n",
       "      <td>0.978746</td>\n",
       "      <td>0.978929</td>\n",
       "      <td>0.977861</td>\n",
       "      <td>0.977865</td>\n",
       "      <td>0.978393</td>\n",
       "      <td>0.000448</td>\n",
       "    </tr>\n",
       "    <tr>\n",
       "      <th>8</th>\n",
       "      <td>17.003269</td>\n",
       "      <td>0.717585</td>\n",
       "      <td>0.211959</td>\n",
       "      <td>0.026307</td>\n",
       "      <td>90</td>\n",
       "      <td>300</td>\n",
       "      <td>{'max_depth': 90, 'n_estimators': 300}</td>\n",
       "      <td>0.323110</td>\n",
       "      <td>0.336188</td>\n",
       "      <td>0.360000</td>\n",
       "      <td>...</td>\n",
       "      <td>0.338286</td>\n",
       "      <td>0.012482</td>\n",
       "      <td>3</td>\n",
       "      <td>0.978564</td>\n",
       "      <td>0.978746</td>\n",
       "      <td>0.978929</td>\n",
       "      <td>0.977861</td>\n",
       "      <td>0.977865</td>\n",
       "      <td>0.978393</td>\n",
       "      <td>0.000448</td>\n",
       "    </tr>\n",
       "    <tr>\n",
       "      <th>11</th>\n",
       "      <td>12.577129</td>\n",
       "      <td>1.225824</td>\n",
       "      <td>0.132450</td>\n",
       "      <td>0.014776</td>\n",
       "      <td>None</td>\n",
       "      <td>300</td>\n",
       "      <td>{'max_depth': None, 'n_estimators': 300}</td>\n",
       "      <td>0.324536</td>\n",
       "      <td>0.347609</td>\n",
       "      <td>0.341429</td>\n",
       "      <td>...</td>\n",
       "      <td>0.335857</td>\n",
       "      <td>0.008086</td>\n",
       "      <td>4</td>\n",
       "      <td>0.978564</td>\n",
       "      <td>0.978746</td>\n",
       "      <td>0.978929</td>\n",
       "      <td>0.977861</td>\n",
       "      <td>0.977865</td>\n",
       "      <td>0.978393</td>\n",
       "      <td>0.000448</td>\n",
       "    </tr>\n",
       "    <tr>\n",
       "      <th>5</th>\n",
       "      <td>17.843114</td>\n",
       "      <td>0.082473</td>\n",
       "      <td>0.262364</td>\n",
       "      <td>0.012174</td>\n",
       "      <td>60</td>\n",
       "      <td>300</td>\n",
       "      <td>{'max_depth': 60, 'n_estimators': 300}</td>\n",
       "      <td>0.325250</td>\n",
       "      <td>0.340471</td>\n",
       "      <td>0.350714</td>\n",
       "      <td>...</td>\n",
       "      <td>0.335286</td>\n",
       "      <td>0.009620</td>\n",
       "      <td>5</td>\n",
       "      <td>0.978564</td>\n",
       "      <td>0.978746</td>\n",
       "      <td>0.978929</td>\n",
       "      <td>0.977861</td>\n",
       "      <td>0.977865</td>\n",
       "      <td>0.978393</td>\n",
       "      <td>0.000448</td>\n",
       "    </tr>\n",
       "  </tbody>\n",
       "</table>\n",
       "<p>5 rows × 22 columns</p>\n",
       "</div>"
      ],
      "text/plain": [
       "    mean_fit_time  std_fit_time  mean_score_time  std_score_time  \\\n",
       "1        8.578330      0.028482         0.146759        0.005201   \n",
       "2       17.051253      0.031948         0.258071        0.002978   \n",
       "8       17.003269      0.717585         0.211959        0.026307   \n",
       "11      12.577129      1.225824         0.132450        0.014776   \n",
       "5       17.843114      0.082473         0.262364        0.012174   \n",
       "\n",
       "   param_max_depth param_n_estimators  \\\n",
       "1               30                150   \n",
       "2               30                300   \n",
       "8               90                300   \n",
       "11            None                300   \n",
       "5               60                300   \n",
       "\n",
       "                                      params  split0_test_score  \\\n",
       "1     {'max_depth': 30, 'n_estimators': 150}           0.358060   \n",
       "2     {'max_depth': 30, 'n_estimators': 300}           0.338088   \n",
       "8     {'max_depth': 90, 'n_estimators': 300}           0.323110   \n",
       "11  {'max_depth': None, 'n_estimators': 300}           0.324536   \n",
       "5     {'max_depth': 60, 'n_estimators': 300}           0.325250   \n",
       "\n",
       "    split1_test_score  split2_test_score       ...         mean_test_score  \\\n",
       "1            0.334761           0.367857       ...                0.345571   \n",
       "2            0.336188           0.363571       ...                0.342857   \n",
       "8            0.336188           0.360000       ...                0.338286   \n",
       "11           0.347609           0.341429       ...                0.335857   \n",
       "5            0.340471           0.350714       ...                0.335286   \n",
       "\n",
       "    std_test_score  rank_test_score  split0_train_score  split1_train_score  \\\n",
       "1         0.014593                1            0.978564            0.978746   \n",
       "2         0.013525                2            0.978564            0.978746   \n",
       "8         0.012482                3            0.978564            0.978746   \n",
       "11        0.008086                4            0.978564            0.978746   \n",
       "5         0.009620                5            0.978564            0.978746   \n",
       "\n",
       "    split2_train_score  split3_train_score  split4_train_score  \\\n",
       "1             0.978929            0.977861            0.977865   \n",
       "2             0.978929            0.977861            0.977865   \n",
       "8             0.978929            0.977861            0.977865   \n",
       "11            0.978929            0.977861            0.977865   \n",
       "5             0.978929            0.977861            0.977865   \n",
       "\n",
       "    mean_train_score  std_train_score  \n",
       "1           0.978393         0.000448  \n",
       "2           0.978393         0.000448  \n",
       "8           0.978393         0.000448  \n",
       "11          0.978393         0.000448  \n",
       "5           0.978393         0.000448  \n",
       "\n",
       "[5 rows x 22 columns]"
      ]
     },
     "execution_count": 32,
     "metadata": {},
     "output_type": "execute_result"
    }
   ],
   "source": [
    "# For TF-IDF\n",
    "gs_tfidf = GridSearchCV(rf, param, cv=5, n_jobs=-1)# n_jobs=-1 for parallelizing search\n",
    "gs_tfidf_fit = gs_tfidf.fit(X_tfidf_clf, train7000['AdoptionSpeed'])\n",
    "pd.DataFrame(gs_tfidf_fit.cv_results_).sort_values('mean_test_score', ascending=False).head()"
   ]
  },
  {
   "cell_type": "markdown",
   "metadata": {},
   "source": [
    "The mean_test_score for n_estimators =300  and max_depth = None gives the best result. Where n_estimators is the number of trees in the forest.(group of decision trees) and max_depth is the max number of levels in each decision tree."
   ]
  },
  {
   "cell_type": "markdown",
   "metadata": {},
   "source": [
    "### Classifier and evaluating"
   ]
  },
  {
   "cell_type": "code",
   "execution_count": 33,
   "metadata": {},
   "outputs": [
    {
     "data": {
      "text/plain": [
       "((6300, 3), (700, 3), (6300,), (700,))"
      ]
     },
     "execution_count": 33,
     "metadata": {},
     "output_type": "execute_result"
    }
   ],
   "source": [
    "# Split the dataset\n",
    "X=train7000[['Description', 'length', 'punctuation-percentage']]\n",
    "y=train7000['AdoptionSpeed']\n",
    "\n",
    "X_train7000, X_test7000, y_train7000, y_test7000 = train_test_split(X,y, test_size=0.1, random_state=42)\n",
    "X_train7000.shape, X_test7000.shape, y_train7000.shape, y_test7000.shape"
   ]
  },
  {
   "cell_type": "code",
   "execution_count": 34,
   "metadata": {},
   "outputs": [
    {
     "name": "stderr",
     "output_type": "stream",
     "text": [
      "/Users/elainny/anaconda/lib/python3.6/site-packages/sklearn/feature_extraction/text.py:1089: FutureWarning: Conversion of the second argument of issubdtype from `float` to `np.floating` is deprecated. In future, it will be treated as `np.float64 == np.dtype(float).type`.\n",
      "  if hasattr(X, 'dtype') and np.issubdtype(X.dtype, np.float):\n"
     ]
    },
    {
     "name": "stdout",
     "output_type": "stream",
     "text": [
      "Precision: 0.4 --- Recall: 0.4 --- F1-Score: 0.4 --- Accuracy: 0.4\n"
     ]
    },
    {
     "name": "stderr",
     "output_type": "stream",
     "text": [
      "/Users/elainny/anaconda/lib/python3.6/site-packages/sklearn/metrics/classification.py:1045: UserWarning: Note that pos_label (set to 'spam') is ignored when average != 'binary' (got 'micro'). You may use labels=[pos_label] to specify a single positive class.\n",
      "  % (pos_label, average), UserWarning)\n"
     ]
    }
   ],
   "source": [
    "# Evaluation of model: on tfidf\n",
    "# Variables define\n",
    "tfidf_vectorizer7000 = tfidfV(analyzer=cleandata) # defined before\n",
    "tfidf_fit7000 = tfidf_vectorizer7000.fit(X_train7000['Description'])\n",
    "\n",
    "tfidf_train7000 = tfidf_fit7000.transform(X_train7000['Description'])\n",
    "tfidf_test7000 = tfidf_fit7000.transform(X_test7000['Description'])\n",
    "\n",
    "X_vectorizer_train7000 = pd.concat([X_train7000[['length', 'punctuation-percentage']].reset_index(drop=True), \n",
    "           pd.DataFrame(tfidf_train7000.toarray())], axis=1)\n",
    "X_vectorizer_test7000 = pd.concat([X_test7000[['length', 'punctuation-percentage']].reset_index(drop=True), \n",
    "           pd.DataFrame(tfidf_test7000.toarray())], axis=1)\n",
    "\n",
    "# Build model\n",
    "rf = RandomForestClassifier(n_estimators=300, max_depth=None, n_jobs=-1)\n",
    "rf_model = rf.fit(X_vectorizer_train7000, y_train7000)\n",
    "y_prediction1 = rf_model.predict(X_vectorizer_test7000)\n",
    "\n",
    "precision, recall, fscore, train_support = f_score(y_test7000, y_prediction1, pos_label='spam', average='micro')\n",
    "print('Precision: {} --- Recall: {} --- F1-Score: {} --- Accuracy: {}'.format(\n",
    "    round(precision, 2), round(recall, 2), round(fscore,2), round(accuracy(y_test7000,y_prediction1), 2)))"
   ]
  },
  {
   "cell_type": "code",
   "execution_count": 35,
   "metadata": {},
   "outputs": [
    {
     "name": "stdout",
     "output_type": "stream",
     "text": [
      "             precision    recall  f1-score   support\n",
      "\n",
      "          0       1.00      0.06      0.12        16\n",
      "          1       0.38      0.14      0.21       139\n",
      "          2       0.39      0.42      0.41       202\n",
      "          3       0.43      0.24      0.31       147\n",
      "          4       0.39      0.69      0.50       196\n",
      "\n",
      "avg / total       0.41      0.40      0.37       700\n",
      "\n"
     ]
    }
   ],
   "source": [
    "print(report(y_test7000, y_prediction1))"
   ]
  },
  {
   "cell_type": "code",
   "execution_count": 36,
   "metadata": {},
   "outputs": [
    {
     "name": "stderr",
     "output_type": "stream",
     "text": [
      "/Users/elainny/anaconda/lib/python3.6/site-packages/matplotlib/font_manager.py:1238: UserWarning: findfont: Font family ['sans-serif'] not found. Falling back to DejaVu Sans.\n",
      "  (prop.get_family(), self.defaultFamily[fontext]))\n"
     ]
    },
    {
     "data": {
      "image/png": "[encoded data removed]",
      "text/plain": [
       "<Figure size 576x396 with 2 Axes>"
      ]
     },
     "metadata": {},
     "output_type": "display_data"
    }
   ],
   "source": [
    "# Making the Confusion Matrix: tfidf\n",
    "matrix = confusion_matrix(y_test7000, y_prediction1)\n",
    "class_label = ['0','1','2','3','4']\n",
    "matrix_df = pd.DataFrame(matrix, index=class_label,columns=class_label)\n",
    "sns.heatmap(matrix_df, annot=True, fmt='d')\n",
    "plt.title(\"Confusion Matrix\")\n",
    "plt.xlabel(\"Predicted Label\")\n",
    "plt.ylabel(\"True Label\")\n",
    "plt.show()"
   ]
  },
  {
   "cell_type": "code",
   "execution_count": 37,
   "metadata": {},
   "outputs": [
    {
     "name": "stdout",
     "output_type": "stream",
     "text": [
      "Precision: 0.41 --- Recall: 0.41 --- F1-Score: 0.41 --- Accuracy: 0.41\n"
     ]
    },
    {
     "name": "stderr",
     "output_type": "stream",
     "text": [
      "/Users/elainny/anaconda/lib/python3.6/site-packages/sklearn/metrics/classification.py:1045: UserWarning: Note that pos_label (set to 'spam') is ignored when average != 'binary' (got 'micro'). You may use labels=[pos_label] to specify a single positive class.\n",
      "  % (pos_label, average), UserWarning)\n"
     ]
    }
   ],
   "source": [
    "# Evaluation of model: on CountVectorizer\n",
    "# Variables define\n",
    "cv7000 = CountVectorizer(ngram_range=(2,2),analyzer=cleandata) # defined before\n",
    "cv_fit7000 = cv7000.fit(X_train7000['Description'])\n",
    "\n",
    "cv_train7000 = cv_fit7000.transform(X_train7000['Description'])\n",
    "cv_test7000 = cv_fit7000.transform(X_test7000['Description'])\n",
    "\n",
    "X_cv_train7000 = pd.concat([X_train7000[['length', 'punctuation-percentage']].reset_index(drop=True), \n",
    "           pd.DataFrame(cv_train7000.toarray())], axis=1)\n",
    "X_cv_test7000 = pd.concat([X_test7000[['length', 'punctuation-percentage']].reset_index(drop=True), \n",
    "           pd.DataFrame(cv_test7000.toarray())], axis=1)\n",
    "\n",
    "# Build model\n",
    "rf_cv = RandomForestClassifier(n_estimators=300, max_depth=60, n_jobs=-1)\n",
    "rf_model_cv = rf_cv.fit(X_cv_train7000, y_train7000)\n",
    "y_prediction_cv = rf_model_cv.predict(X_cv_test7000)\n",
    "\n",
    "precision, recall, fscore, train_support = f_score(y_test7000, y_prediction_cv, pos_label='spam', average='micro')\n",
    "print('Precision: {} --- Recall: {} --- F1-Score: {} --- Accuracy: {}'.format(\n",
    "    round(precision, 3), round(recall, 3), round(fscore,3), round(accuracy(y_test7000,y_prediction_cv), 3)))"
   ]
  },
  {
   "cell_type": "code",
   "execution_count": 38,
   "metadata": {},
   "outputs": [
    {
     "name": "stdout",
     "output_type": "stream",
     "text": [
      "             precision    recall  f1-score   support\n",
      "\n",
      "          0       1.00      0.06      0.12        16\n",
      "          1       0.52      0.12      0.19       139\n",
      "          2       0.39      0.40      0.40       202\n",
      "          3       0.54      0.20      0.29       147\n",
      "          4       0.39      0.82      0.53       196\n",
      "\n",
      "avg / total       0.46      0.41      0.36       700\n",
      "\n"
     ]
    }
   ],
   "source": [
    "print(report(y_test7000, y_prediction_cv))"
   ]
  },
  {
   "cell_type": "code",
   "execution_count": 39,
   "metadata": {},
   "outputs": [
    {
     "data": {
      "image/png": "[encoded data removed]",
      "text/plain": [
       "<Figure size 576x396 with 2 Axes>"
      ]
     },
     "metadata": {},
     "output_type": "display_data"
    }
   ],
   "source": [
    "# Making the Confusion Matrix: CountVectorizer\n",
    "matrixcv = confusion_matrix(y_test7000, y_prediction_cv)\n",
    "class_label = ['0','1','2','3','4']\n",
    "matrixcv_df = pd.DataFrame(matrixcv, index=class_label,columns=class_label)\n",
    "sns.heatmap(matrixcv_df, annot=True, fmt='d')\n",
    "plt.title(\"Confusion Matrix of best CountVectorizer model\")\n",
    "plt.xlabel(\"Predicted Label\")\n",
    "plt.ylabel(\"True Label\")\n",
    "plt.show()"
   ]
  },
  {
   "cell_type": "code",
   "execution_count": null,
   "metadata": {},
   "outputs": [],
   "source": []
  }
 ],
 "metadata": {
  "kernelspec": {
   "display_name": "Python 3",
   "language": "python",
   "name": "python3"
  },
  "language_info": {
   "codemirror_mode": {
    "name": "ipython",
    "version": 3
   },
   "file_extension": ".py",
   "mimetype": "text/x-python",
   "name": "python",
   "nbconvert_exporter": "python",
   "pygments_lexer": "ipython3",
   "version": "3.6.5"
  }
 },
 "nbformat": 4,
 "nbformat_minor": 2
}
