{
 "cells": [
  {
   "cell_type": "markdown",
   "metadata": {},
   "source": [
    "# Data Cleaning and Data Mining"
   ]
  },
  {
   "cell_type": "code",
   "execution_count": null,
   "metadata": {},
   "outputs": [],
   "source": [
    "# import packages\n",
    "import pandas as pd\n",
    "import numpy as np"
   ]
  },
  {
   "cell_type": "code",
   "execution_count": null,
   "metadata": {},
   "outputs": [],
   "source": [
    "# import two datasets\n",
    "breed = pd.read_csv('Data/Row-Data/breed_labels.csv')\n",
    "color = pd.read_csv('Data/Row-Data/color_labels.csv')\n",
    "train = pd.read_csv('Data/Row-Data/train.csv')\n",
    "train['DataType'] = 'train'\n",
    "test = pd.read_csv('Data/Row-Data/test.csv')\n",
    "test['DataType'] = 'test'\n",
    "# the combine dataset for visualization purpose\n",
    "df = pd.concat([train,test], sort=True)"
   ]
  },
  {
   "cell_type": "code",
   "execution_count": null,
   "metadata": {},
   "outputs": [],
   "source": [
    "train.shape"
   ]
  },
  {
   "cell_type": "code",
   "execution_count": null,
   "metadata": {},
   "outputs": [],
   "source": [
    "df.head(3)"
   ]
  },
  {
   "cell_type": "code",
   "execution_count": null,
   "metadata": {},
   "outputs": [],
   "source": [
    "# Change the Color to Strings based on color_labels\n",
    "\n",
    "# train:\n",
    "train[['Color1','Color2','Color3']] = train[['Color1','Color2','Color3']].replace([1,2,3,4,5,6,7],\n",
    "                            ['Black','Brown','Golden','Yellow','Cream','Gray','White'])\n",
    "train[['Color1','Color2','Color3']] = train[['Color1','Color2','Color3']].replace(0,'none')\n",
    "\n",
    "# test:\n",
    "test[['Color1','Color2','Color3']] = test[['Color1','Color2','Color3']].replace([1,2,3,4,5,6,7],\n",
    "                            ['Black','Brown','Golden','Yellow','Cream','Gray','White'])\n",
    "test[['Color1','Color2','Color3']] = test[['Color1','Color2','Color3']].replace(0,'none')\n",
    "\n",
    "# df:\n",
    "df[['Color1','Color2','Color3']] = df[['Color1','Color2','Color3']].replace([1,2,3,4,5,6,7],\n",
    "                            ['Black','Brown','Golden','Yellow','Cream','Gray','White'])\n",
    "df[['Color1','Color2','Color3']] = df[['Color1','Color2','Color3']].replace(0,'none')"
   ]
  },
  {
   "cell_type": "code",
   "execution_count": null,
   "metadata": {},
   "outputs": [],
   "source": [
    "# Change the top 5 dog/cat breeds to names\n",
    "\n",
    "# train:\n",
    "train[['Breed1','Breed2']] = train[['Breed1','Breed2']].replace([307,179,205,109,20],\n",
    "                                                         ['Mixed breeds','Poddle','Shih Tzu',\n",
    "                                                          'Golden Retriever','Ibizan Hound'])\n",
    "\n",
    "\n",
    "train[['Breed1','Breed2']] = train[['Breed1','Breed2']].replace([266,265,264,299,292],\n",
    "                                                         ['Domestic short hair','Domestic medium hair',\n",
    "                                                          'Domestic long hair','Tabby','Siamese'])\n",
    "\n",
    "# test:\n",
    "test[['Breed1','Breed2']] = test[['Breed1','Breed2']].replace([307,179,205,109,20],\n",
    "                                                         ['Mixed breeds','Poddle','Shih Tzu',\n",
    "                                                          'Golden Retriever','Ibizan Hound'])\n",
    "\n",
    "\n",
    "test[['Breed1','Breed2']] = test[['Breed1','Breed2']].replace([266,265,264,299,292],\n",
    "                                                         ['Domestic short hair','Domestic medium hair',\n",
    "                                                          'Domestic long hair','Tabby','Siamese'])\n",
    "\n",
    "# df:\n",
    "df[['Breed1','Breed2']] = df[['Breed1','Breed2']].replace([307,179,205,109,20],\n",
    "                                                         ['Mixed breeds','Poddle','Shih Tzu',\n",
    "                                                          'Golden Retriever','Ibizan Hound'])\n",
    "\n",
    "\n",
    "df[['Breed1','Breed2']] = df[['Breed1','Breed2']].replace([266,265,264,299,292],\n",
    "                                                         ['Domestic short hair','Domestic medium hair',\n",
    "                                                          'Domestic long hair','Tabby','Siamese'])\n"
   ]
  },
  {
   "cell_type": "code",
   "execution_count": null,
   "metadata": {},
   "outputs": [],
   "source": [
    "# Change the Maturity Size as the following: \n",
    "#1 = Small, 2 = Medium, 3 = Large, 4 = Extra Large, 0 = Not Sure\n",
    "\n",
    "# train:\n",
    "train[['MaturitySize']] = train[['MaturitySize']].replace([0,1,2,3,4],\n",
    "                            ['Not Sure','Small','Medium','Large','Extra Large'])\n",
    "\n",
    "#test:\n",
    "test[['MaturitySize']] = test[['MaturitySize']].replace([0,1,2,3,4],\n",
    "                            ['Not Sure','Small','Medium','Large','Extra Large'])\n",
    "\n",
    "#df:\n",
    "df[['MaturitySize']] = df[['MaturitySize']].replace([0,1,2,3,4],\n",
    "                            ['Not Sure','Small','Medium','Large','Extra Large'])"
   ]
  },
  {
   "cell_type": "code",
   "execution_count": null,
   "metadata": {},
   "outputs": [],
   "source": [
    "# Change the Fur Length as the following: \n",
    "# 1 = Short, 2 = Medium, 3 = Long, 0 = Not Sure\n",
    "\n",
    "# train:\n",
    "train[['FurLength']] = train[['FurLength']].replace([0,1,2,3],['Not Sure','Short','Medium','Long'])\n",
    "\n",
    "# test:\n",
    "test[['FurLength']] = test[['FurLength']].replace([0,1,2,3],['Not Sure','Short','Medium','Long'])\n",
    "\n",
    "# df:\n",
    "df[['FurLength']] = df[['FurLength']].replace([0,1,2,3],['Not Sure','Short','Medium','Long'])"
   ]
  },
  {
   "cell_type": "code",
   "execution_count": null,
   "metadata": {},
   "outputs": [],
   "source": [
    "# Change the vacinated, Dewormed, Sterilized as the following:\n",
    "#vaccinated (1 = Yes, 2 = No, 3 = Not Sure)\n",
    "#Dewormed - Pet has been dewormed (1 = Yes, 2 = No, 3 = Not Sure)\n",
    "#Sterilized - Pet has been spayed / neutered (1 = Yes, 2 = No, 3 = Not Sure)\n",
    "\n",
    "# train:\n",
    "train[['Vaccinated']] = train[['Vaccinated']].replace([1,2,3],['Yes','No','Not Sure'])\n",
    "train[['Dewormed']] = train[['Dewormed']].replace([1,2,3],['Yes','No','Not Sure'])\n",
    "train[['Sterilized']] = train[['Sterilized']].replace([1,2,3],['Yes','No','Not Sure'])\n",
    "\n",
    "# test:\n",
    "test[['Vaccinated']] = test[['Vaccinated']].replace([1,2,3],['Yes','No','Not Sure'])\n",
    "test[['Dewormed']] = test[['Dewormed']].replace([1,2,3],['Yes','No','Not Sure'])\n",
    "test[['Sterilized']] = test[['Sterilized']].replace([1,2,3],['Yes','No','Not Sure'])\n",
    "\n",
    "# df:\n",
    "df[['Vaccinated']] = df[['Vaccinated']].replace([1,2,3],['Yes','No','Not Sure'])\n",
    "df[['Dewormed']] = df[['Dewormed']].replace([1,2,3],['Yes','No','Not Sure'])\n",
    "df[['Sterilized']] = df[['Sterilized']].replace([1,2,3],['Yes','No','Not Sure'])"
   ]
  },
  {
   "cell_type": "code",
   "execution_count": null,
   "metadata": {},
   "outputs": [],
   "source": [
    "# Change the health as the following:\n",
    "#1 = Healthy, 2 = Minor Injury, 3 = Serious Injury, 0 = Not Sure\n",
    "\n",
    "# train:\n",
    "train[['Health']] = train[['Health']].replace([0,1,2,3],['Not Sure','Healthy','Minor Injury','Serious Injury'])\n",
    "\n",
    "# test:\n",
    "test[['Health']] = test[['Health']].replace([0,1,2,3],['Not Sure','Healthy','Minor Injury','Serious Injury'])\n",
    "\n",
    "# df:\n",
    "df[['Health']] = df[['Health']].replace([0,1,2,3],['Not Sure','Healthy','Minor Injury','Serious Injury'])"
   ]
  },
  {
   "cell_type": "code",
   "execution_count": null,
   "metadata": {},
   "outputs": [],
   "source": [
    "# Change the DataType: 1 = Dog, 2 = Cat\n",
    "\n",
    "# train:\n",
    "train[['Type']] = train[['Type']].replace([1,2],['Dog','Cat'])\n",
    "\n",
    "# test:\n",
    "test[['Type']] = test[['Type']].replace([1,2],['Dog','Cat'])\n",
    "\n",
    "# df:\n",
    "df[['Type']] = df[['Type']].replace([1,2],['Dog','Cat'])"
   ]
  },
  {
   "cell_type": "code",
   "execution_count": null,
   "metadata": {},
   "outputs": [],
   "source": [
    "# Change the Gender: 1 = Male, 2 = Female, 3 = Neutered/Sprayed\n",
    "\n",
    "# train:\n",
    "train[['Gender']] = train[['Gender']].replace([1,2,3],['Male','Female','Neutered/Sprayed'])\n",
    "\n",
    "# test:\n",
    "test[['Gender']] = test[['Gender']].replace([1,2,3],['Male','Female','Neutered/Sprayed'])\n",
    "\n",
    "# df:\n",
    "df[['Gender']] = df[['Gender']].replace([1,2,3],['Male','Female','Neutered/Sprayed'])"
   ]
  },
  {
   "cell_type": "code",
   "execution_count": null,
   "metadata": {},
   "outputs": [],
   "source": [
    "# clean name column: \n",
    "# no name yet -> No name;\n",
    "# Nan -> No name;\n",
    "# No Name -> No name;\n",
    "\n",
    "# train:\n",
    "train['Name'] = train['Name'].replace(['No Name Yet', 'No Name'],['No name','No name'])\n",
    "train['Name'] = train['Name'].fillna('No name')\n",
    "\n",
    "# test:\n",
    "test['Name'] = test['Name'].replace(['No Name Yet', 'No Name'],['No name','No name'])\n",
    "test['Name'] = test['Name'].fillna('No name')\n",
    "\n",
    "# df:\n",
    "test['Name'] = test['Name'].replace(['No Name Yet', 'No Name'],['No name','No name'])\n",
    "df['Name'] = df['Name'].fillna('No name')"
   ]
  },
  {
   "cell_type": "code",
   "execution_count": null,
   "metadata": {
    "scrolled": true
   },
   "outputs": [],
   "source": [
    "# Drop unuseful columns and drop the AdoptionSpeed = null rows\n",
    "\n",
    "#train: \n",
    "train_null = np.array(train[train['AdoptionSpeed'].isnull() == True].index)\n",
    "train = train.drop(train_null)\n",
    "train = train.drop(['PhotoAmt','RescuerID','State','VideoAmt'], axis = 1)\n",
    "\n",
    "#test:\n",
    "test = test.drop(['PhotoAmt','RescuerID','State','VideoAmt'], axis = 1)\n",
    "\n",
    "# df:\n",
    "df_nan = np.array(train[train['AdoptionSpeed'].isnull() == True].index)\n",
    "df = df.drop(df_nan)\n",
    "df = df.drop(['PhotoAmt','RescuerID','State','VideoAmt'], axis = 1)"
   ]
  },
  {
   "cell_type": "code",
   "execution_count": null,
   "metadata": {},
   "outputs": [],
   "source": [
    "# save cleaned dataset as csv files:\n",
    "\n",
    "#train:\n",
    "train.to_csv('Data/cleaned-train.csv')\n",
    "\n",
    "#test:\n",
    "test.to_csv('Data/cleaned-test.csv')\n",
    "\n",
    "#df:\n",
    "df.to_csv('Data/cleaned-data.csv')"
   ]
  },
  {
   "cell_type": "code",
   "execution_count": null,
   "metadata": {},
   "outputs": [],
   "source": [
    "train.head(5)"
   ]
  },
  {
   "cell_type": "code",
   "execution_count": null,
   "metadata": {},
   "outputs": [],
   "source": [
    "train.isnull().any()"
   ]
  },
  {
   "cell_type": "code",
   "execution_count": null,
   "metadata": {},
   "outputs": [],
   "source": []
  }
 ],
 "metadata": {
  "kernelspec": {
   "display_name": "Python 3",
   "language": "python",
   "name": "python3"
  },
  "language_info": {
   "codemirror_mode": {
    "name": "ipython",
    "version": 3
   },
   "file_extension": ".py",
   "mimetype": "text/x-python",
   "name": "python",
   "nbconvert_exporter": "python",
   "pygments_lexer": "ipython3",
   "version": "3.6.5"
  }
 },
 "nbformat": 4,
 "nbformat_minor": 2
}
